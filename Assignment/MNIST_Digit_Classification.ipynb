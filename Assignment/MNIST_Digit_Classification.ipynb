{
  "nbformat": 4,
  "nbformat_minor": 0,
  "metadata": {
    "colab": {
      "name": "MNIST Digit Classification.ipynb",
      "provenance": [],
      "collapsed_sections": [],
      "authorship_tag": "ABX9TyPBt8d/WpBPZJBT/mDqvkKw",
      "include_colab_link": true
    },
    "kernelspec": {
      "name": "python3",
      "display_name": "Python 3"
    }
  },
  "cells": [
    {
      "cell_type": "markdown",
      "metadata": {
        "id": "view-in-github",
        "colab_type": "text"
      },
      "source": [
        "<a href=\"https://colab.research.google.com/github/Tiamiyu1/AI-OAU-Computer-Vision-Learning-Track-Team-Pluto-/blob/main/Assignment/MNIST_Digit_Classification.ipynb\" target=\"_parent\"><img src=\"https://colab.research.google.com/assets/colab-badge.svg\" alt=\"Open In Colab\"/></a>"
      ]
    },
    {
      "cell_type": "code",
      "metadata": {
        "id": "hTfbttvBz42U"
      },
      "source": [
        "import numpy as np\r\n",
        "import pandas as pd\r\n",
        "import matplotlib.pyplot as plt\r\n",
        "import seaborn as sns\r\n",
        "%matplotlib inline\r\n",
        "sns.set_style('darkgrid')\r\n",
        "import warnings\r\n",
        "warnings.filterwarnings('ignore')"
      ],
      "execution_count": 1,
      "outputs": []
    },
    {
      "cell_type": "code",
      "metadata": {
        "id": "hemeqLg001BH"
      },
      "source": [
        "# !git clone https://github.com/tensorflow/tensorflow.git"
      ],
      "execution_count": 2,
      "outputs": []
    },
    {
      "cell_type": "code",
      "metadata": {
        "id": "583fDyv0DmPn"
      },
      "source": [
        "import warnings\r\n",
        "warnings.filterwarnings('ignore')\r\n",
        "import tensorflow as tf"
      ],
      "execution_count": 3,
      "outputs": []
    },
    {
      "cell_type": "code",
      "metadata": {
        "id": "Aflo1wJCEEVu",
        "colab": {
          "base_uri": "https://localhost:8080/"
        },
        "outputId": "9b6875d1-76ed-4deb-8ade-29ef8011b5c6"
      },
      "source": [
        "# Getting the data and separatng into into test, train sets with their labels\r\n",
        "(x_train, y_train),(x_test, y_test) = tf.keras.datasets.mnist.load_data()\r\n",
        "# x_train, x_test = x_train / 255.0, x_test / 255.0"
      ],
      "execution_count": 4,
      "outputs": [
        {
          "output_type": "stream",
          "text": [
            "Downloading data from https://storage.googleapis.com/tensorflow/tf-keras-datasets/mnist.npz\n",
            "11493376/11490434 [==============================] - 0s 0us/step\n"
          ],
          "name": "stdout"
        }
      ]
    },
    {
      "cell_type": "code",
      "metadata": {
        "id": "TJUj1npWMatR"
      },
      "source": [
        "num_classes = 10 #We are going to be classifying 10 digits\r\n",
        "img_rows, img_cols = 28, 28 #No of Pixels on height = 28 and width = 28 "
      ],
      "execution_count": 5,
      "outputs": []
    },
    {
      "cell_type": "code",
      "metadata": {
        "colab": {
          "base_uri": "https://localhost:8080/"
        },
        "id": "oEKReOaq9Pvt",
        "outputId": "87599333-147c-416d-d80a-9c8e81afde31"
      },
      "source": [
        "x_train.shape"
      ],
      "execution_count": 6,
      "outputs": [
        {
          "output_type": "execute_result",
          "data": {
            "text/plain": [
              "(60000, 28, 28)"
            ]
          },
          "metadata": {
            "tags": []
          },
          "execution_count": 6
        }
      ]
    },
    {
      "cell_type": "code",
      "metadata": {
        "colab": {
          "base_uri": "https://localhost:8080/"
        },
        "id": "U0QoX4fkCHvz",
        "outputId": "48da7e3a-cea3-4891-ac0b-00c0400b5fd2"
      },
      "source": [
        "x_test.shape"
      ],
      "execution_count": 7,
      "outputs": [
        {
          "output_type": "execute_result",
          "data": {
            "text/plain": [
              "(10000, 28, 28)"
            ]
          },
          "metadata": {
            "tags": []
          },
          "execution_count": 7
        }
      ]
    },
    {
      "cell_type": "code",
      "metadata": {
        "colab": {
          "base_uri": "https://localhost:8080/",
          "height": 247
        },
        "id": "goOSCMRO3ZtX",
        "outputId": "239de3e1-af3c-42e6-f2dd-8196a13da290"
      },
      "source": [
        "import numpy as np\r\n",
        "import matplotlib\r\n",
        "import matplotlib.pyplot as plt\r\n",
        "img_idx = np.random.randint(0, x_test.shape[0])\r\n",
        "\r\n",
        "# visualize one random sample in black and white\r\n",
        "plt.imshow(x_test[img_idx], cmap='Greys')\r\n",
        "plt.axis(\"off\")\r\n",
        "plt.show()"
      ],
      "execution_count": 11,
      "outputs": [
        {
          "output_type": "display_data",
          "data": {
            "image/png": "[encoded data removed]",
            "text/plain": [
              "<Figure size 432x288 with 1 Axes>"
            ]
          },
          "metadata": {
            "tags": [],
            "needs_background": "light"
          }
        }
      ]
    },
    {
      "cell_type": "code",
      "metadata": {
        "colab": {
          "base_uri": "https://localhost:8080/"
        },
        "id": "f5kX0NVu3f6W",
        "outputId": "eb92324f-0eba-4c70-8c01-d85f53723a93"
      },
      "source": [
        "x_train.shape"
      ],
      "execution_count": 14,
      "outputs": [
        {
          "output_type": "execute_result",
          "data": {
            "text/plain": [
              "(60000, 28, 28)"
            ]
          },
          "metadata": {
            "tags": []
          },
          "execution_count": 14
        }
      ]
    },
    {
      "cell_type": "code",
      "metadata": {
        "id": "1TcUGOnhNoxF"
      },
      "source": [
        ""
      ],
      "execution_count": null,
      "outputs": []
    },
    {
      "cell_type": "code",
      "metadata": {
        "colab": {
          "base_uri": "https://localhost:8080/"
        },
        "id": "dmmtWfVwNkuZ",
        "outputId": "a81494b8-0978-4ebb-f357-6741e7d71e2c"
      },
      "source": [
        "# Normalizing the RGB codes by diving it by the max RGB value\r\n",
        "x_train, x_test = x_train / 255., x_test / 255.\r\n",
        "print(\"Normalized pixel values between {} and {}\".format(x_train.min(), x_train.max()))"
      ],
      "execution_count": 15,
      "outputs": [
        {
          "output_type": "stream",
          "text": [
            "Normalized pixel values between 0.0 and 1.0\n"
          ],
          "name": "stdout"
        }
      ]
    },
    {
      "cell_type": "code",
      "metadata": {
        "id": "bbhUACROKOMN"
      },
      "source": [
        "# How quickly the cost function is adjusted\r\n",
        "learning_rate = 0.001\r\n"
      ],
      "execution_count": null,
      "outputs": []
    },
    {
      "cell_type": "code",
      "metadata": {
        "id": "2DulQPVXKtAi"
      },
      "source": [
        "# we have 10 classes from 0 through 9\r\n",
        "n_classes = 10\r\n",
        "# 50,000 training examples\r\n",
        "n_sample= x_train.shape[0]"
      ],
      "execution_count": null,
      "outputs": []
    },
    {
      "cell_type": "code",
      "metadata": {
        "id": "SrOvkQkjLGrF"
      },
      "source": [
        "\r\n",
        "# we should have flat input i.e 28 * 28\r\n",
        "n_input = 784"
      ],
      "execution_count": null,
      "outputs": []
    },
    {
      "cell_type": "code",
      "metadata": {
        "id": "EiSsgPVrLN4N"
      },
      "source": [
        "# 256 neurons for each of the two hidden layers\r\n",
        "n_hidden_1 = 256\r\n",
        "n_hidden_2 = 256"
      ],
      "execution_count": null,
      "outputs": []
    },
    {
      "cell_type": "code",
      "metadata": {
        "id": "Bf4FDhe6Xj2p"
      },
      "source": [
        "input_shape = (28, 28)\r\n",
        "# No of ouput classes 0-9\r\n",
        "n_classes = 10\r\n",
        "# No of training cycle to go through\r\n",
        "training_epochs =  15\r\n",
        "# No of sample to feed into the system at once\r\n",
        "batch_size = 100"
      ],
      "execution_count": 28,
      "outputs": []
    },
    {
      "cell_type": "code",
      "metadata": {
        "id": "dJZa_e-hQJRa"
      },
      "source": [
        "model = tf.keras.Sequential([\r\n",
        "    tf.keras.layers.Flatten(input_shape = input_shape), #Convert Image(28,28) to input of size 28*28=784\r\n",
        "    tf.keras.layers.Dense(128, activation='relu'),\r\n",
        "    tf.keras.layers.Dense(n_classes, activation='softmax')\r\n",
        "])"
      ],
      "execution_count": 26,
      "outputs": []
    },
    {
      "cell_type": "code",
      "metadata": {
        "colab": {
          "base_uri": "https://localhost:8080/"
        },
        "id": "o4WT5thBS4HZ",
        "outputId": "28f28d4e-c70d-49de-a6ef-a05b35cdc72b"
      },
      "source": [
        "model.compile(optimizer='sgd',\r\n",
        "              loss='sparse_categorical_crossentropy',\r\n",
        "              metrics=['accuracy'])\r\n",
        "model.fit(x_train, y_train, epochs=35, verbose=1, validation_data=(x_test, y_test),batch_size=32)"
      ],
      "execution_count": 30,
      "outputs": [
        {
          "output_type": "stream",
          "text": [
            "Epoch 1/35\n",
            "1875/1875 [==============================] - 3s 2ms/step - loss: 0.1380 - accuracy: 0.9622 - val_loss: 0.1401 - val_accuracy: 0.9598\n",
            "Epoch 2/35\n",
            "1875/1875 [==============================] - 3s 2ms/step - loss: 0.1316 - accuracy: 0.9642 - val_loss: 0.1395 - val_accuracy: 0.9602\n",
            "Epoch 3/35\n",
            "1875/1875 [==============================] - 3s 2ms/step - loss: 0.1281 - accuracy: 0.9637 - val_loss: 0.1308 - val_accuracy: 0.9624\n",
            "Epoch 4/35\n",
            "1875/1875 [==============================] - 3s 2ms/step - loss: 0.1211 - accuracy: 0.9672 - val_loss: 0.1286 - val_accuracy: 0.9632\n",
            "Epoch 5/35\n",
            "1875/1875 [==============================] - 3s 2ms/step - loss: 0.1172 - accuracy: 0.9681 - val_loss: 0.1235 - val_accuracy: 0.9638\n",
            "Epoch 6/35\n",
            "1875/1875 [==============================] - 3s 2ms/step - loss: 0.1113 - accuracy: 0.9691 - val_loss: 0.1202 - val_accuracy: 0.9654\n",
            "Epoch 7/35\n",
            "1875/1875 [==============================] - 3s 2ms/step - loss: 0.1085 - accuracy: 0.9699 - val_loss: 0.1171 - val_accuracy: 0.9662\n",
            "Epoch 8/35\n",
            "1875/1875 [==============================] - 3s 2ms/step - loss: 0.1055 - accuracy: 0.9710 - val_loss: 0.1136 - val_accuracy: 0.9674\n",
            "Epoch 9/35\n",
            "1875/1875 [==============================] - 3s 2ms/step - loss: 0.0992 - accuracy: 0.9730 - val_loss: 0.1103 - val_accuracy: 0.9679\n",
            "Epoch 10/35\n",
            "1875/1875 [==============================] - 3s 2ms/step - loss: 0.0950 - accuracy: 0.9737 - val_loss: 0.1090 - val_accuracy: 0.9689\n",
            "Epoch 11/35\n",
            "1875/1875 [==============================] - 3s 2ms/step - loss: 0.0957 - accuracy: 0.9747 - val_loss: 0.1077 - val_accuracy: 0.9697\n",
            "Epoch 12/35\n",
            "1875/1875 [==============================] - 3s 2ms/step - loss: 0.0916 - accuracy: 0.9757 - val_loss: 0.1051 - val_accuracy: 0.9692\n",
            "Epoch 13/35\n",
            "1875/1875 [==============================] - 3s 2ms/step - loss: 0.0885 - accuracy: 0.9763 - val_loss: 0.1024 - val_accuracy: 0.9711\n",
            "Epoch 14/35\n",
            "1875/1875 [==============================] - 3s 2ms/step - loss: 0.0870 - accuracy: 0.9767 - val_loss: 0.1007 - val_accuracy: 0.9716\n",
            "Epoch 15/35\n",
            "1875/1875 [==============================] - 3s 2ms/step - loss: 0.0818 - accuracy: 0.9782 - val_loss: 0.0989 - val_accuracy: 0.9715\n",
            "Epoch 16/35\n",
            "1875/1875 [==============================] - 3s 2ms/step - loss: 0.0785 - accuracy: 0.9785 - val_loss: 0.0975 - val_accuracy: 0.9720\n",
            "Epoch 17/35\n",
            "1875/1875 [==============================] - 3s 2ms/step - loss: 0.0776 - accuracy: 0.9798 - val_loss: 0.0969 - val_accuracy: 0.9714\n",
            "Epoch 18/35\n",
            "1875/1875 [==============================] - 3s 2ms/step - loss: 0.0743 - accuracy: 0.9798 - val_loss: 0.0951 - val_accuracy: 0.9731\n",
            "Epoch 19/35\n",
            "1875/1875 [==============================] - 3s 2ms/step - loss: 0.0730 - accuracy: 0.9806 - val_loss: 0.0938 - val_accuracy: 0.9727\n",
            "Epoch 20/35\n",
            "1875/1875 [==============================] - 3s 2ms/step - loss: 0.0697 - accuracy: 0.9812 - val_loss: 0.0920 - val_accuracy: 0.9735\n",
            "Epoch 21/35\n",
            "1875/1875 [==============================] - 3s 2ms/step - loss: 0.0703 - accuracy: 0.9810 - val_loss: 0.0923 - val_accuracy: 0.9729\n",
            "Epoch 22/35\n",
            "1875/1875 [==============================] - 3s 2ms/step - loss: 0.0669 - accuracy: 0.9822 - val_loss: 0.0905 - val_accuracy: 0.9734\n",
            "Epoch 23/35\n",
            "1875/1875 [==============================] - 3s 2ms/step - loss: 0.0657 - accuracy: 0.9830 - val_loss: 0.0885 - val_accuracy: 0.9740\n",
            "Epoch 24/35\n",
            "1875/1875 [==============================] - 3s 2ms/step - loss: 0.0647 - accuracy: 0.9830 - val_loss: 0.0885 - val_accuracy: 0.9743\n",
            "Epoch 25/35\n",
            "1875/1875 [==============================] - 3s 2ms/step - loss: 0.0612 - accuracy: 0.9840 - val_loss: 0.0878 - val_accuracy: 0.9749\n",
            "Epoch 26/35\n",
            "1875/1875 [==============================] - 3s 2ms/step - loss: 0.0596 - accuracy: 0.9844 - val_loss: 0.0865 - val_accuracy: 0.9746\n",
            "Epoch 27/35\n",
            "1875/1875 [==============================] - 3s 2ms/step - loss: 0.0611 - accuracy: 0.9839 - val_loss: 0.0860 - val_accuracy: 0.9751\n",
            "Epoch 28/35\n",
            "1875/1875 [==============================] - 3s 2ms/step - loss: 0.0583 - accuracy: 0.9849 - val_loss: 0.0848 - val_accuracy: 0.9753\n",
            "Epoch 29/35\n",
            "1875/1875 [==============================] - 3s 2ms/step - loss: 0.0578 - accuracy: 0.9851 - val_loss: 0.0854 - val_accuracy: 0.9751\n",
            "Epoch 30/35\n",
            "1875/1875 [==============================] - 3s 2ms/step - loss: 0.0579 - accuracy: 0.9847 - val_loss: 0.0847 - val_accuracy: 0.9754\n",
            "Epoch 31/35\n",
            "1875/1875 [==============================] - 3s 2ms/step - loss: 0.0554 - accuracy: 0.9854 - val_loss: 0.0841 - val_accuracy: 0.9749\n",
            "Epoch 32/35\n",
            "1875/1875 [==============================] - 3s 2ms/step - loss: 0.0541 - accuracy: 0.9856 - val_loss: 0.0826 - val_accuracy: 0.9752\n",
            "Epoch 33/35\n",
            "1875/1875 [==============================] - 3s 2ms/step - loss: 0.0528 - accuracy: 0.9866 - val_loss: 0.0830 - val_accuracy: 0.9755\n",
            "Epoch 34/35\n",
            "1875/1875 [==============================] - 3s 2ms/step - loss: 0.0518 - accuracy: 0.9869 - val_loss: 0.0838 - val_accuracy: 0.9757\n",
            "Epoch 35/35\n",
            "1875/1875 [==============================] - 3s 2ms/step - loss: 0.0521 - accuracy: 0.9866 - val_loss: 0.0813 - val_accuracy: 0.9757\n"
          ],
          "name": "stdout"
        },
        {
          "output_type": "execute_result",
          "data": {
            "text/plain": [
              "<tensorflow.python.keras.callbacks.History at 0x7fe86f9d0400>"
            ]
          },
          "metadata": {
            "tags": []
          },
          "execution_count": 30
        }
      ]
    },
    {
      "cell_type": "code",
      "metadata": {
        "id": "iJiThoc6bCDS"
      },
      "source": [
        "# we have 98% accuracy on the training set and 97% on the test test"
      ],
      "execution_count": 33,
      "outputs": []
    },
    {
      "cell_type": "code",
      "metadata": {
        "id": "kRoHvaxLTPui"
      },
      "source": [
        "y_test = model.predict(x_test)"
      ],
      "execution_count": 34,
      "outputs": []
    },
    {
      "cell_type": "code",
      "metadata": {
        "id": "7n9LaCULBk5D"
      },
      "source": [
        "y_test = [np.argmax(y_test_) for y_test_ in y_test]"
      ],
      "execution_count": 38,
      "outputs": []
    },
    {
      "cell_type": "code",
      "metadata": {
        "id": "XGMux5ElBlL8",
        "colab": {
          "base_uri": "https://localhost:8080/",
          "height": 197
        },
        "outputId": "eae592cc-47f0-4e71-eb85-0462503e4e44"
      },
      "source": [
        "sub = pd.DataFrame({'ImageId':[i + 1 for i in range(len(y_test))], 'Label':y_test})\r\n",
        "sub.head()"
      ],
      "execution_count": 39,
      "outputs": [
        {
          "output_type": "execute_result",
          "data": {
            "text/html": [
              "<div>\n",
              "<style scoped>\n",
              "    .dataframe tbody tr th:only-of-type {\n",
              "        vertical-align: middle;\n",
              "    }\n",
              "\n",
              "    .dataframe tbody tr th {\n",
              "        vertical-align: top;\n",
              "    }\n",
              "\n",
              "    .dataframe thead th {\n",
              "        text-align: right;\n",
              "    }\n",
              "</style>\n",
              "<table border=\"1\" class=\"dataframe\">\n",
              "  <thead>\n",
              "    <tr style=\"text-align: right;\">\n",
              "      <th></th>\n",
              "      <th>ImageId</th>\n",
              "      <th>Label</th>\n",
              "    </tr>\n",
              "  </thead>\n",
              "  <tbody>\n",
              "    <tr>\n",
              "      <th>0</th>\n",
              "      <td>1</td>\n",
              "      <td>7</td>\n",
              "    </tr>\n",
              "    <tr>\n",
              "      <th>1</th>\n",
              "      <td>2</td>\n",
              "      <td>2</td>\n",
              "    </tr>\n",
              "    <tr>\n",
              "      <th>2</th>\n",
              "      <td>3</td>\n",
              "      <td>1</td>\n",
              "    </tr>\n",
              "    <tr>\n",
              "      <th>3</th>\n",
              "      <td>4</td>\n",
              "      <td>0</td>\n",
              "    </tr>\n",
              "    <tr>\n",
              "      <th>4</th>\n",
              "      <td>5</td>\n",
              "      <td>4</td>\n",
              "    </tr>\n",
              "  </tbody>\n",
              "</table>\n",
              "</div>"
            ],
            "text/plain": [
              "   ImageId  Label\n",
              "0        1      7\n",
              "1        2      2\n",
              "2        3      1\n",
              "3        4      0\n",
              "4        5      4"
            ]
          },
          "metadata": {
            "tags": []
          },
          "execution_count": 39
        }
      ]
    },
    {
      "cell_type": "code",
      "metadata": {
        "id": "JthH7TutbwuQ"
      },
      "source": [
        ""
      ],
      "execution_count": null,
      "outputs": []
    }
  ]
}