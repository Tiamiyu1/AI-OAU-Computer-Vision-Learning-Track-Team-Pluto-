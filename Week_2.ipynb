{
  "nbformat": 4,
  "nbformat_minor": 0,
  "metadata": {
    "kernelspec": {
      "display_name": "Python 3",
      "language": "python",
      "name": "python3"
    },
    "language_info": {
      "codemirror_mode": {
        "name": "ipython",
        "version": 3
      },
      "file_extension": ".py",
      "mimetype": "text/x-python",
      "name": "python",
      "nbconvert_exporter": "python",
      "pygments_lexer": "ipython3",
      "version": "3.7.4"
    },
    "colab": {
      "name": "Week 2.ipynb",
      "provenance": [],
      "include_colab_link": true
    }
  },
  "cells": [
    {
      "cell_type": "markdown",
      "metadata": {
        "id": "view-in-github",
        "colab_type": "text"
      },
      "source": [
        "<a href=\"https://colab.research.google.com/github/Tiamiyu1/AI-OAU-Computer-Vision-Learning-Track-Team-Pluto-/blob/main/Week_2.ipynb\" target=\"_parent\"><img src=\"https://colab.research.google.com/assets/colab-badge.svg\" alt=\"Open In Colab\"/></a>"
      ]
    },
    {
      "cell_type": "markdown",
      "metadata": {
        "id": "3Lj3ixOva2Ey"
      },
      "source": [
        "# Optimizer, losses and activation functions in fully connected neural networks."
      ]
    },
    {
      "cell_type": "markdown",
      "metadata": {
        "id": "zt_mEyVHa2E5"
      },
      "source": [
        "## Activation function"
      ]
    },
    {
      "cell_type": "markdown",
      "metadata": {
        "id": "3ddjqAGfa2E6"
      },
      "source": [
        "Activation functions are computational functions for neuron computation and interaction. They are functions that engages each neuron cell in active learning of patterns between input data and its corresponding target data. To mention a few, we have sigmoid, rectified linear units (relu), exponential linear unit (elu), tanh etc. We will be looking into relu, sigmoid. In most classification problem we do have sigmoid been used as the activation function for output layers. Due to its ability to intuitively differentiate patterns learnt between two classes. Relu, has been proven mathematically as one of the activation function best suitable for hidden layers."
      ]
    },
    {
      "cell_type": "markdown",
      "metadata": {
        "id": "x90Eg1pSa2E7"
      },
      "source": [
        "## Loss function"
      ]
    },
    {
      "cell_type": "markdown",
      "metadata": {
        "id": "oD5L4DhMa2E7"
      },
      "source": [
        "Loss functions are mathematical algorithms that helps measure how close a neural net learns to getting the actual result. In machine learning, a loss function is a mathematical algorithm that evaluates the performance of an ML algorithm with respect to its desired result."
      ]
    },
    {
      "cell_type": "markdown",
      "metadata": {
        "id": "oSFRDyJGa2E7"
      },
      "source": [
        "To mention a few, we do have the following loss functions as classification based (binary cross entropy, categorical cross entropy, cosine similarity and others). We also have, mean squared error (MSE), mean absolute percentage error (MAPE), mean absolute error (MAE), just to mention a few, used for regression based problems."
      ]
    },
    {
      "cell_type": "markdown",
      "metadata": {
        "id": "vYVUNb4Ga2E8"
      },
      "source": [
        "## An optimizer"
      ]
    },
    {
      "cell_type": "markdown",
      "metadata": {
        "id": "Od_jh0E3a2E8"
      },
      "source": [
        "In simple sentences, an optimizer can basically be referred to as an algorithm that helps another algorithm to reach its peak performance without delay. With respect to machine learning (neural network), we can say an optimizer is a mathematical algorithm that helps our loss function reach its convergence point with minimum delay (and most importantly, reduce the posibility of gradient explosion). Examples include, adam, stochastic gradient descent (SGD), adadelta, rmsprop, adamax, adagrad, nadam etc."
      ]
    },
    {
      "cell_type": "markdown",
      "metadata": {
        "id": "1ZqBHmkRa2E8"
      },
      "source": [
        "## How to make your choice"
      ]
    },
    {
      "cell_type": "markdown",
      "metadata": {
        "id": "7TuQs0uNa2E9"
      },
      "source": [
        "When ever you are working with fully connected neural network for a classification problem do ensure you use sigmoid as the activation function for your output. If regression, you shouldn’t use any activation function for your output. You can make relu the activation function for your hidden layers. If still working on classification and you are trying to predict multi-class data, do use categorical cross entropy, else use binary cross entropy (for binary prediction). If regression, you can use mean squared error, it works like magic. For optimizers, there are no actual one way to this, but best optimizers for classification is adam and rmsprop. Gradient descent works like magic for regression problems. You need to take note that, this ain’t fixed way for all problems, they do vary in operation. So one of the best you would want to look into is model parameter hyper tuning of your neural network for optimal selection of model parameters that works best for your problem."
      ]
    },
    {
      "cell_type": "markdown",
      "metadata": {
        "id": "W-wGZmmia2E9"
      },
      "source": [
        "References: https://medium.com/@elishatofunmi/optimizer-losses-and-activation-functions-in-fully-connected-neural-networks-e1958bc66121"
      ]
    },
    {
      "cell_type": "markdown",
      "metadata": {
        "id": "_9uV7qsxa2E9"
      },
      "source": [
        "# House pricing regression with low level Tensorflow"
      ]
    },
    {
      "cell_type": "markdown",
      "metadata": {
        "id": "2XQ3CfJGa2E-"
      },
      "source": [
        "##  Using the california housing dataset"
      ]
    },
    {
      "cell_type": "code",
      "metadata": {
        "colab": {
          "base_uri": "https://localhost:8080/"
        },
        "id": "Ra0RoNyya2E_",
        "outputId": "44444b1e-a9e6-4b64-ea45-c75afac5635f"
      },
      "source": [
        "# load the dataset\n",
        "from sklearn.datasets import fetch_california_housing\n",
        "housing = fetch_california_housing()\n",
        "\n",
        "m,n = housing.data.shape"
      ],
      "execution_count": 1,
      "outputs": [
        {
          "output_type": "stream",
          "text": [
            "Downloading Cal. housing from https://ndownloader.figshare.com/files/5976036 to /root/scikit_learn_data\n"
          ],
          "name": "stderr"
        }
      ]
    },
    {
      "cell_type": "code",
      "metadata": {
        "scrolled": true,
        "id": "90_sPNoza2FK"
      },
      "source": [
        "# pass in into a Dataframe\n",
        "import pandas as pd\n",
        "df = pd.DataFrame(housing.data)\n",
        "target = pd.DataFrame(housing.target)"
      ],
      "execution_count": 2,
      "outputs": []
    },
    {
      "cell_type": "code",
      "metadata": {
        "id": "syPJ26zGa2FK"
      },
      "source": [
        "# Split into training and test set\n",
        "from sklearn.model_selection import train_test_split\n",
        "X_train, X_test, y_train, y_test = train_test_split(df, target, test_size=0.2, random_state=42)"
      ],
      "execution_count": 3,
      "outputs": []
    },
    {
      "cell_type": "markdown",
      "metadata": {
        "id": "L-tmoH5fa2FK"
      },
      "source": [
        "# ML Model"
      ]
    },
    {
      "cell_type": "code",
      "metadata": {
        "colab": {
          "base_uri": "https://localhost:8080/"
        },
        "id": "AeL79EYBa2FK",
        "outputId": "aa19413b-2fb6-41a8-c2f4-3e76c501a05a"
      },
      "source": [
        "# Trying Gradient Boost and check the performance before feeding into Neural Network model\n",
        "from sklearn.ensemble import GradientBoostingRegressor\n",
        "# We are using GradientBoostingRegressor because it is a regression task\n",
        "# Instantiate the model, then fit to the training set\n",
        "gb = GradientBoostingRegressor()\n",
        "gb.fit(X_train, y_train)"
      ],
      "execution_count": 4,
      "outputs": [
        {
          "output_type": "stream",
          "text": [
            "/usr/local/lib/python3.6/dist-packages/sklearn/ensemble/_gb.py:1454: DataConversionWarning: A column-vector y was passed when a 1d array was expected. Please change the shape of y to (n_samples, ), for example using ravel().\n",
            "  y = column_or_1d(y, warn=True)\n"
          ],
          "name": "stderr"
        },
        {
          "output_type": "execute_result",
          "data": {
            "text/plain": [
              "GradientBoostingRegressor(alpha=0.9, ccp_alpha=0.0, criterion='friedman_mse',\n",
              "                          init=None, learning_rate=0.1, loss='ls', max_depth=3,\n",
              "                          max_features=None, max_leaf_nodes=None,\n",
              "                          min_impurity_decrease=0.0, min_impurity_split=None,\n",
              "                          min_samples_leaf=1, min_samples_split=2,\n",
              "                          min_weight_fraction_leaf=0.0, n_estimators=100,\n",
              "                          n_iter_no_change=None, presort='deprecated',\n",
              "                          random_state=None, subsample=1.0, tol=0.0001,\n",
              "                          validation_fraction=0.1, verbose=0, warm_start=False)"
            ]
          },
          "metadata": {
            "tags": []
          },
          "execution_count": 4
        }
      ]
    },
    {
      "cell_type": "code",
      "metadata": {
        "id": "dpwOctr0a2FM"
      },
      "source": [
        "# Predict X_test and save it as predictions\n",
        "predictions = gb.predict(X_test)"
      ],
      "execution_count": 5,
      "outputs": []
    },
    {
      "cell_type": "code",
      "metadata": {
        "colab": {
          "base_uri": "https://localhost:8080/"
        },
        "id": "0QwBChM6a2FN",
        "outputId": "1e5b38cc-8627-4c5b-c31f-c40617bdc52d"
      },
      "source": [
        "# Check model performance\n",
        "from sklearn.metrics import mean_squared_error\n",
        "print('Training score:', gb.score(X_train, y_train))\n",
        "print('Test score:', mean_squared_error(y_test, predictions) )"
      ],
      "execution_count": 6,
      "outputs": [
        {
          "output_type": "stream",
          "text": [
            "Training score: 0.8048978817773167\n",
            "Test score: 0.2940161448268125\n"
          ],
          "name": "stdout"
        }
      ]
    },
    {
      "cell_type": "markdown",
      "metadata": {
        "id": "Ll8jX8XLa2FO"
      },
      "source": [
        "# Deep Learning"
      ]
    },
    {
      "cell_type": "code",
      "metadata": {
        "id": "F5pYBaCHa2FO"
      },
      "source": [
        "import tensorflow.compat.v1 as tf1"
      ],
      "execution_count": 7,
      "outputs": []
    },
    {
      "cell_type": "code",
      "metadata": {
        "id": "8a13B-d4a2FO"
      },
      "source": [
        "tf1.disable_eager_execution()"
      ],
      "execution_count": 8,
      "outputs": []
    },
    {
      "cell_type": "code",
      "metadata": {
        "id": "mKclXryba2FO"
      },
      "source": [
        "# Define the placeholders for x and y\n",
        "\n",
        "X = tf1.placeholder(tf1.float32, shape=(None, 8), name='x')\n",
        "y = tf1.placeholder(tf1.float32, shape=(None, 1), name='y')"
      ],
      "execution_count": 9,
      "outputs": []
    },
    {
      "cell_type": "code",
      "metadata": {
        "id": "UiflbvhVa2FP"
      },
      "source": [
        "with tf1.name_scope('loss'):\n",
        "    #theta = tf1.Variable(tf.random_uniform((8,1), -1.0, 1.0), name = 'theta')\n",
        "    import numpy as np\n",
        "    stddev = 2/np.sqrt(8)\n",
        "    w = tf1.Variable(tf1.random_normal((8,1), stddev = stddev, name = 'weights'))\n",
        "    b = tf1.Variable(tf1.zeros(m,1), name = 'biases')\n",
        "    y_pred = tf1.add(tf1.matmul(X,w),b, name= 'predictions')\n",
        "    error = y_pred - y\n",
        "    mse = tf1.reduce_mean(tf1.square(error), name = 'mse')"
      ],
      "execution_count": 10,
      "outputs": []
    },
    {
      "cell_type": "code",
      "metadata": {
        "colab": {
          "base_uri": "https://localhost:8080/"
        },
        "id": "ixyGq2Zka2FP",
        "outputId": "a57902c6-f4cb-4682-8eee-ddd11cc59eba"
      },
      "source": [
        "with tf1.name_scope('training'):\n",
        "    learning_rate = 0.01\n",
        "    optimizer= tf1.train.RMSPropOptimizer(learning_rate = learning_rate)\n",
        "    training_op = optimizer.minimize(mse)\n",
        "    init = tf1.global_variables_initializer()\n",
        "    saver = tf1.train.Saver()"
      ],
      "execution_count": 11,
      "outputs": [
        {
          "output_type": "stream",
          "text": [
            "WARNING:tensorflow:From /usr/local/lib/python3.6/dist-packages/tensorflow/python/training/rmsprop.py:123: calling Ones.__init__ (from tensorflow.python.ops.init_ops) with dtype is deprecated and will be removed in a future version.\n",
            "Instructions for updating:\n",
            "Call initializer instance with the dtype argument instead of passing it to the constructor\n"
          ],
          "name": "stdout"
        }
      ]
    },
    {
      "cell_type": "markdown",
      "metadata": {
        "id": "ho3vVAlGa2FQ"
      },
      "source": [
        "## Neural Network"
      ]
    },
    {
      "cell_type": "code",
      "metadata": {
        "colab": {
          "base_uri": "https://localhost:8080/"
        },
        "id": "BJnDAJEfa2FQ",
        "outputId": "63d3574a-60ec-485d-9421-18e655645150"
      },
      "source": [
        "batch_size = 1000\n",
        "n_batches = int(np.ceil(16512/batch_size))\n",
        "print('number of batches is: ', str(n_batches))"
      ],
      "execution_count": 12,
      "outputs": [
        {
          "output_type": "stream",
          "text": [
            "number of batches is:  17\n"
          ],
          "name": "stdout"
        }
      ]
    },
    {
      "cell_type": "code",
      "metadata": {
        "id": "QP4OADXAa2FR"
      },
      "source": [
        "def fetch_batch(batch_index):\n",
        "    if batch_index < n_batches-1:\n",
        "        start = batch_index * batch_size\n",
        "        stop = batch_size + start\n",
        "        x_batch = X_train[start:stop]\n",
        "        y_batch = y_train[start:stop]\n",
        "        \n",
        "    else:\n",
        "        start = batch_index* batch_size\n",
        "        x_batch = X_train[start:]\n",
        "        y_batch = y_train[start:]\n",
        "    return x_batch, y_batch"
      ],
      "execution_count": 13,
      "outputs": []
    },
    {
      "cell_type": "code",
      "metadata": {
        "id": "5Hj7-7Wxopey",
        "outputId": "0d8ec0a1-9589-4081-ade7-8a1c45b2db92",
        "colab": {
          "base_uri": "https://localhost:8080/"
        }
      },
      "source": [
        "X_train.shape, y_train.shape"
      ],
      "execution_count": 29,
      "outputs": [
        {
          "output_type": "execute_result",
          "data": {
            "text/plain": [
              "((16512, 8), (16512, 1))"
            ]
          },
          "metadata": {
            "tags": []
          },
          "execution_count": 29
        }
      ]
    },
    {
      "cell_type": "code",
      "metadata": {
        "id": "q7KASltKoxHk"
      },
      "source": [
        "m, n = X_train.shape"
      ],
      "execution_count": 30,
      "outputs": []
    },
    {
      "cell_type": "code",
      "metadata": {
        "colab": {
          "base_uri": "https://localhost:8080/"
        },
        "id": "-yurvUmoa2FR",
        "outputId": "85b7fb51-3d28-48c0-d74d-d9bd7d3b5a56"
      },
      "source": [
        "#X = tf.constant(housing_data_plus_bias, dtype =tf.float32, name = 'X')\n",
        "#y = tf.constant(housing.target.reshape(-1,1), dtype = tf.float32, name = 'y')\n",
        "\n",
        "X = tf1.placeholder(tf1.float32, shape = (None,8), name = 'x')\n",
        "y = tf1.placeholder(tf1.float32, shape = (None,1), name = 'y')\n",
        "\n",
        "with tf1.name_scope('loss'):\n",
        "    #theta = tf.Variable(tf.random_uniform((8,1), -1.0, 1.0), name = 'theta')\n",
        "    stddev = 2/np.sqrt(8)\n",
        "    w = tf1.Variable(tf1.random_normal((8,1), stddev = stddev, name = 'weights'))\n",
        "    b = tf1.Variable(tf1.zeros(m,1), name = 'biases')\n",
        "    y_pred = tf1.add(tf1.matmul(X,w),b, name= 'predictions')\n",
        "    error = y_pred - y\n",
        "    mse = tf1.reduce_mean(tf1.square(error), name = 'mse')\n",
        "    \n",
        "with tf1.name_scope('training'):\n",
        "    learning_rate = 0.01\n",
        "    optimizer= tf1.train.RMSPropOptimizer(learning_rate = learning_rate)\n",
        "    training_op = optimizer.minimize(mse)\n",
        "    init = tf1.global_variables_initializer()\n",
        "    saver = tf1.train.Saver()\n",
        "    \n",
        "train_loss, test_loss = [],[]\n",
        "\n",
        "n_epochs = 50\n",
        "with tf1.Session() as sess:\n",
        "    \n",
        "    init.run()\n",
        "    for epoch in range(n_epochs):\n",
        "        batch_step = 0\n",
        "        avg_loss = 0\n",
        "        total_loss = 0\n",
        "        total_batch = int(X_train.shape[0]/batch_size)\n",
        "        for batch_index in range(n_batches):\n",
        "            x_batch, y_batch = fetch_batch(batch_index)\n",
        "            _,l = sess.run([training_op, mse], feed_dict= {X:x_batch, y:y_batch})\n",
        "            batch_step+=1\n",
        "            total_loss +=l\n",
        "        if epoch % 10 == 0: # print 5 batches of epochs\n",
        "            avg_loss = total_loss/batch_size\n",
        "            print(\"Epoch:\", '%02d' % (epoch+1), \"| Average Training Loss= {:.2f}\".format(avg_loss), \n",
        "                  \"| Training MSE:  {:.2f}\".format(mse.eval({X: X_train, y: y_train})),\n",
        "                  \"| Test/Validation MSE:  {:.2f}\".format(mse.eval({X: X_test, y: y_test})))\n",
        "            train_loss.append(mse.eval({X:X_train, y:y_train}))\n",
        "            test_loss.append(mse.eval({X:X_test, y:y_test}))\n",
        "        else:\n",
        "            train_loss.append(mse.eval({X:X_train, y:y_train}))\n",
        "            test_loss.append(mse.eval({X:X_test, y:y_test}))\n",
        "    \n",
        "    print(\"Model fit complete.\")\n",
        "    print(\"Final Training MSE: {:.2f}\".format(mse.eval({X: X_train, y: y_train})))\n",
        "    print(\"Final Validation MSE: {:.2f}\".format(mse.eval({X: X_test, y: y_test})))\n",
        "    save_path = saver.save(sess, './house_reg.ckpt')"
      ],
      "execution_count": 32,
      "outputs": [
        {
          "output_type": "stream",
          "text": [
            "Epoch: 01 | Average Training Loss= 300.59 | Training MSE:  4847.35 | Test/Validation MSE:  4729.87\n",
            "Epoch: 11 | Average Training Loss= 1.73 | Training MSE:  46.83 | Test/Validation MSE:  46.04\n",
            "Epoch: 21 | Average Training Loss= 1.55 | Training MSE:  52.17 | Test/Validation MSE:  51.52\n",
            "Epoch: 31 | Average Training Loss= 1.51 | Training MSE:  54.52 | Test/Validation MSE:  53.77\n",
            "Epoch: 41 | Average Training Loss= 1.53 | Training MSE:  49.69 | Test/Validation MSE:  48.99\n",
            "Model fit complete.\n",
            "Final Training MSE: 31.41\n",
            "Final Validation MSE: 30.90\n"
          ],
          "name": "stdout"
        }
      ]
    },
    {
      "cell_type": "code",
      "metadata": {
        "id": "oGfZ4j82q6y1"
      },
      "source": [
        "# test_loss"
      ],
      "execution_count": 36,
      "outputs": []
    },
    {
      "cell_type": "code",
      "metadata": {
        "colab": {
          "base_uri": "https://localhost:8080/",
          "height": 294
        },
        "id": "Z6QcFmaXa2FS",
        "outputId": "e18b83f7-26d6-49e6-aadc-4faf1bcb3591"
      },
      "source": [
        "import seaborn as sns\n",
        "import matplotlib.pyplot as plt\n",
        "plt.plot(train_loss)\n",
        "plt.plot(test_loss)\n",
        "plt.title('model loss')\n",
        "plt.ylabel('loss')\n",
        "plt.xlabel('epoch')\n",
        "plt.legend(['train', 'test'], loc='upper left')\n",
        "plt.show()"
      ],
      "execution_count": 33,
      "outputs": [
        {
          "output_type": "display_data",
          "data": {
            "image/png": "[encoded data removed]",
            "text/plain": [
              "<Figure size 432x288 with 1 Axes>"
            ]
          },
          "metadata": {
            "tags": [],
            "needs_background": "light"
          }
        }
      ]
    },
    {
      "cell_type": "markdown",
      "metadata": {
        "id": "KRY_fdo0a2FS"
      },
      "source": [
        "## Keras in Tensorflow"
      ]
    },
    {
      "cell_type": "code",
      "metadata": {
        "id": "cblZwMM2a2FS"
      },
      "source": [
        "import keras \n",
        "from tensorflow.compat.v1.keras.backend import clear_session\n",
        "# Before instantiating a tf.data.Dataset obj & before model creation, call:\n",
        "clear_session()"
      ],
      "execution_count": 37,
      "outputs": []
    },
    {
      "cell_type": "code",
      "metadata": {
        "id": "FF49broAa2FS"
      },
      "source": [
        "from tensorflow.keras import layers\n",
        "import datetime\n",
        "logdir = \"logs/scalars/\" + datetime.datetime.now().strftime(\"%Y%m%d-%H%M%S\")\n",
        "tensorboard_callback = keras.callbacks.TensorBoard(log_dir=logdir)\n",
        "\n",
        "model = tf1.keras.Sequential()\n",
        "model.add(layers.Dense(40,input_shape=(8,), activation='relu'))\n",
        "model.add(layers.Dense(100, activation='relu'))\n",
        "model.add(layers.Dense(20, activation='relu'))\n",
        "model.add(layers.Dense(1))"
      ],
      "execution_count": 38,
      "outputs": []
    },
    {
      "cell_type": "code",
      "metadata": {
        "colab": {
          "base_uri": "https://localhost:8080/"
        },
        "id": "RuJSWfKga2FS",
        "outputId": "67d81218-2b1f-4bb7-a5c2-7a1b88a75546"
      },
      "source": [
        "model.compile(optimizer=tf1.keras.optimizers.RMSprop(0.01),\n",
        "              loss= tf1.keras.losses.mean_squared_error,\n",
        "              metrics=['mse'])\n",
        "\n",
        "model.summary()"
      ],
      "execution_count": 39,
      "outputs": [
        {
          "output_type": "stream",
          "text": [
            "Model: \"sequential\"\n",
            "_________________________________________________________________\n",
            "Layer (type)                 Output Shape              Param #   \n",
            "=================================================================\n",
            "dense (Dense)                (None, 40)                360       \n",
            "_________________________________________________________________\n",
            "dense_1 (Dense)              (None, 100)               4100      \n",
            "_________________________________________________________________\n",
            "dense_2 (Dense)              (None, 20)                2020      \n",
            "_________________________________________________________________\n",
            "dense_3 (Dense)              (None, 1)                 21        \n",
            "=================================================================\n",
            "Total params: 6,501\n",
            "Trainable params: 6,501\n",
            "Non-trainable params: 0\n",
            "_________________________________________________________________\n"
          ],
          "name": "stdout"
        }
      ]
    },
    {
      "cell_type": "code",
      "metadata": {
        "colab": {
          "base_uri": "https://localhost:8080/"
        },
        "id": "h7UHgEGZa2FT",
        "outputId": "8f97a19e-a3aa-4a18-9eba-ac845b547953"
      },
      "source": [
        "h = model.fit(X_train, y_train, epochs=50, batch_size=1000,validation_data=(X_test, y_test),callbacks=[tensorboard_callback])"
      ],
      "execution_count": 40,
      "outputs": [
        {
          "output_type": "stream",
          "text": [
            "Train on 16512 samples, validate on 4128 samples\n",
            "Epoch 1/50\n",
            "16512/16512 [==============================] - 0s 7us/sample - loss: 57441.3579 - mse: 57441.3594 - val_loss: 2.5870 - val_mse: 2.5870\n",
            "Epoch 2/50\n",
            "16512/16512 [==============================] - 0s 4us/sample - loss: 2.3349 - mse: 2.3349 - val_loss: 2.1552 - val_mse: 2.1552\n",
            "Epoch 3/50\n",
            "16512/16512 [==============================] - 0s 5us/sample - loss: 2.2100 - mse: 2.2100 - val_loss: 1.8987 - val_mse: 1.8987\n",
            "Epoch 4/50\n",
            "16512/16512 [==============================] - 0s 4us/sample - loss: 2.4825 - mse: 2.4825 - val_loss: 2.9490 - val_mse: 2.9490\n",
            "Epoch 5/50\n",
            "16512/16512 [==============================] - 0s 4us/sample - loss: 2.8969 - mse: 2.8969 - val_loss: 3.0775 - val_mse: 3.0775\n",
            "Epoch 6/50\n",
            "16512/16512 [==============================] - 0s 5us/sample - loss: 3.7831 - mse: 3.7831 - val_loss: 1.9305 - val_mse: 1.9305\n",
            "Epoch 7/50\n",
            "16512/16512 [==============================] - 0s 4us/sample - loss: 4.5707 - mse: 4.5707 - val_loss: 4.3021 - val_mse: 4.3021\n",
            "Epoch 8/50\n",
            "16512/16512 [==============================] - 0s 5us/sample - loss: 1315.3562 - mse: 1315.3561 - val_loss: 4.7183 - val_mse: 4.7183\n",
            "Epoch 9/50\n",
            "16512/16512 [==============================] - 0s 5us/sample - loss: 4.7741 - mse: 4.7741 - val_loss: 4.6273 - val_mse: 4.6273\n",
            "Epoch 10/50\n",
            "16512/16512 [==============================] - 0s 5us/sample - loss: 4.6382 - mse: 4.6382 - val_loss: 4.4284 - val_mse: 4.4284\n",
            "Epoch 11/50\n",
            "16512/16512 [==============================] - 0s 4us/sample - loss: 4.3636 - mse: 4.3636 - val_loss: 4.0701 - val_mse: 4.0701\n",
            "Epoch 12/50\n",
            "16512/16512 [==============================] - 0s 4us/sample - loss: 3.9468 - mse: 3.9468 - val_loss: 3.6151 - val_mse: 3.6151\n",
            "Epoch 13/50\n",
            "16512/16512 [==============================] - 0s 5us/sample - loss: 3.4820 - mse: 3.4820 - val_loss: 3.1641 - val_mse: 3.1641\n",
            "Epoch 14/50\n",
            "16512/16512 [==============================] - 0s 5us/sample - loss: 3.0452 - mse: 3.0452 - val_loss: 2.7582 - val_mse: 2.7582\n",
            "Epoch 15/50\n",
            "16512/16512 [==============================] - 0s 5us/sample - loss: 2.6569 - mse: 2.6569 - val_loss: 2.4036 - val_mse: 2.4036\n",
            "Epoch 16/50\n",
            "16512/16512 [==============================] - 0s 5us/sample - loss: 2.3212 - mse: 2.3212 - val_loss: 2.1022 - val_mse: 2.1022\n",
            "Epoch 17/50\n",
            "16512/16512 [==============================] - 0s 4us/sample - loss: 2.0380 - mse: 2.0380 - val_loss: 1.8529 - val_mse: 1.8529\n",
            "Epoch 18/50\n",
            "16512/16512 [==============================] - 0s 5us/sample - loss: 1.8062 - mse: 1.8062 - val_loss: 1.6529 - val_mse: 1.6529\n",
            "Epoch 19/50\n",
            "16512/16512 [==============================] - 0s 5us/sample - loss: 1.6241 - mse: 1.6241 - val_loss: 1.5021 - val_mse: 1.5021\n",
            "Epoch 20/50\n",
            "16512/16512 [==============================] - 0s 5us/sample - loss: 1.4908 - mse: 1.4908 - val_loss: 1.3997 - val_mse: 1.3997\n",
            "Epoch 21/50\n",
            "16512/16512 [==============================] - 0s 5us/sample - loss: 1.4033 - mse: 1.4033 - val_loss: 1.3386 - val_mse: 1.3386\n",
            "Epoch 22/50\n",
            "16512/16512 [==============================] - 0s 5us/sample - loss: 1.3561 - mse: 1.3561 - val_loss: 1.3147 - val_mse: 1.3147\n",
            "Epoch 23/50\n",
            "16512/16512 [==============================] - 0s 5us/sample - loss: 1.3393 - mse: 1.3393 - val_loss: 1.3104 - val_mse: 1.3104\n",
            "Epoch 24/50\n",
            "16512/16512 [==============================] - 0s 5us/sample - loss: 1.3369 - mse: 1.3369 - val_loss: 1.3109 - val_mse: 1.3109\n",
            "Epoch 25/50\n",
            "16512/16512 [==============================] - 0s 5us/sample - loss: 1.3370 - mse: 1.3370 - val_loss: 1.3107 - val_mse: 1.3107\n",
            "Epoch 26/50\n",
            "16512/16512 [==============================] - 0s 5us/sample - loss: 1.3371 - mse: 1.3371 - val_loss: 1.3105 - val_mse: 1.3105\n",
            "Epoch 27/50\n",
            "16512/16512 [==============================] - 0s 5us/sample - loss: 1.3370 - mse: 1.3370 - val_loss: 1.3106 - val_mse: 1.3106\n",
            "Epoch 28/50\n",
            "16512/16512 [==============================] - 0s 5us/sample - loss: 1.3370 - mse: 1.3370 - val_loss: 1.3115 - val_mse: 1.3115\n",
            "Epoch 29/50\n",
            "16512/16512 [==============================] - 0s 5us/sample - loss: 1.3370 - mse: 1.3370 - val_loss: 1.3104 - val_mse: 1.3104\n",
            "Epoch 30/50\n",
            "16512/16512 [==============================] - 0s 5us/sample - loss: 1.3370 - mse: 1.3370 - val_loss: 1.3106 - val_mse: 1.3106\n",
            "Epoch 31/50\n",
            "16512/16512 [==============================] - 0s 5us/sample - loss: 1.3369 - mse: 1.3369 - val_loss: 1.3107 - val_mse: 1.3107\n",
            "Epoch 32/50\n",
            "16512/16512 [==============================] - 0s 5us/sample - loss: 1.3371 - mse: 1.3371 - val_loss: 1.3109 - val_mse: 1.3109\n",
            "Epoch 33/50\n",
            "16512/16512 [==============================] - 0s 5us/sample - loss: 1.3371 - mse: 1.3371 - val_loss: 1.3105 - val_mse: 1.3105\n",
            "Epoch 34/50\n",
            "16512/16512 [==============================] - 0s 5us/sample - loss: 1.3370 - mse: 1.3370 - val_loss: 1.3122 - val_mse: 1.3122\n",
            "Epoch 35/50\n",
            "16512/16512 [==============================] - 0s 4us/sample - loss: 1.3371 - mse: 1.3371 - val_loss: 1.3108 - val_mse: 1.3108\n",
            "Epoch 36/50\n",
            "16512/16512 [==============================] - 0s 5us/sample - loss: 1.3371 - mse: 1.3371 - val_loss: 1.3105 - val_mse: 1.3105\n",
            "Epoch 37/50\n",
            "16512/16512 [==============================] - 0s 5us/sample - loss: 1.3371 - mse: 1.3371 - val_loss: 1.3105 - val_mse: 1.3105\n",
            "Epoch 38/50\n",
            "16512/16512 [==============================] - 0s 5us/sample - loss: 1.3370 - mse: 1.3370 - val_loss: 1.3105 - val_mse: 1.3105\n",
            "Epoch 39/50\n",
            "16512/16512 [==============================] - 0s 4us/sample - loss: 1.3372 - mse: 1.3372 - val_loss: 1.3106 - val_mse: 1.3106\n",
            "Epoch 40/50\n",
            "16512/16512 [==============================] - 0s 4us/sample - loss: 1.3371 - mse: 1.3371 - val_loss: 1.3104 - val_mse: 1.3104\n",
            "Epoch 41/50\n",
            "16512/16512 [==============================] - 0s 5us/sample - loss: 1.3372 - mse: 1.3372 - val_loss: 1.3107 - val_mse: 1.3107\n",
            "Epoch 42/50\n",
            "16512/16512 [==============================] - 0s 5us/sample - loss: 1.3370 - mse: 1.3370 - val_loss: 1.3109 - val_mse: 1.3109\n",
            "Epoch 43/50\n",
            "16512/16512 [==============================] - 0s 4us/sample - loss: 1.3371 - mse: 1.3371 - val_loss: 1.3110 - val_mse: 1.3110\n",
            "Epoch 44/50\n",
            "16512/16512 [==============================] - 0s 4us/sample - loss: 1.3370 - mse: 1.3370 - val_loss: 1.3107 - val_mse: 1.3107\n",
            "Epoch 45/50\n",
            "16512/16512 [==============================] - 0s 4us/sample - loss: 1.3371 - mse: 1.3371 - val_loss: 1.3105 - val_mse: 1.3105\n",
            "Epoch 46/50\n",
            "16512/16512 [==============================] - 0s 5us/sample - loss: 1.3370 - mse: 1.3370 - val_loss: 1.3104 - val_mse: 1.3104\n",
            "Epoch 47/50\n",
            "16512/16512 [==============================] - 0s 5us/sample - loss: 1.3371 - mse: 1.3371 - val_loss: 1.3112 - val_mse: 1.3112\n",
            "Epoch 48/50\n",
            "16512/16512 [==============================] - 0s 5us/sample - loss: 1.3369 - mse: 1.3369 - val_loss: 1.3105 - val_mse: 1.3105\n",
            "Epoch 49/50\n",
            "16512/16512 [==============================] - 0s 5us/sample - loss: 1.3369 - mse: 1.3369 - val_loss: 1.3115 - val_mse: 1.3115\n",
            "Epoch 50/50\n",
            "16512/16512 [==============================] - 0s 4us/sample - loss: 1.3373 - mse: 1.3373 - val_loss: 1.3108 - val_mse: 1.3108\n"
          ],
          "name": "stdout"
        }
      ]
    },
    {
      "cell_type": "code",
      "metadata": {
        "id": "st8LBg4sk3vh"
      },
      "source": [
        "# %load_ext tensorboard\n",
        "# %tensorboard --logdir logs/scalars"
      ],
      "execution_count": 45,
      "outputs": []
    },
    {
      "cell_type": "code",
      "metadata": {
        "id": "rZh4EPGrdnwK",
        "colab": {
          "base_uri": "https://localhost:8080/"
        },
        "outputId": "5a91bb90-15ca-4a99-db38-a1bd205f2f82"
      },
      "source": [
        "model.evaluate(X_train, y_train)"
      ],
      "execution_count": 43,
      "outputs": [
        {
          "output_type": "execute_result",
          "data": {
            "text/plain": [
              "[1.3367909963509834, 1.3367921]"
            ]
          },
          "metadata": {
            "tags": []
          },
          "execution_count": 43
        }
      ]
    },
    {
      "cell_type": "code",
      "metadata": {
        "id": "QnDeIz60r_Az",
        "outputId": "96223f62-4c4e-4123-d96f-d922558b0e78",
        "colab": {
          "base_uri": "https://localhost:8080/"
        }
      },
      "source": [
        "model.evaluate(X_test, y_test)"
      ],
      "execution_count": 44,
      "outputs": [
        {
          "output_type": "execute_result",
          "data": {
            "text/plain": [
              "[1.3108301001001699, 1.3108299]"
            ]
          },
          "metadata": {
            "tags": []
          },
          "execution_count": 44
        }
      ]
    },
    {
      "cell_type": "code",
      "metadata": {
        "id": "vs0KdBc1sJpd"
      },
      "source": [
        ""
      ],
      "execution_count": null,
      "outputs": []
    }
  ]
}